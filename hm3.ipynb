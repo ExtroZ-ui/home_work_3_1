{
 "cells": [
  {
   "cell_type": "code",
   "execution_count": 3,
   "metadata": {},
   "outputs": [
    {
     "name": "stdout",
     "output_type": "stream",
     "text": [
      "{'milk15': True, 'cheese': True, 'sausage': False}\n"
     ]
    }
   ],
   "source": [
    "# Исходные данные\n",
    "items = {\n",
    "    'milk15': {'name': 'молоко 1.5%', 'count': 34, 'price': 89.9},\n",
    "    'cheese': {'name': 'сыр молочный 1 кг.', 'count': 12, 'price': 990.9},\n",
    "    'sausage': {'name': 'колбаса 1 кг.', 'count': 122, 'price': 1990.9}\n",
    "}\n",
    "\n",
    "result = {key: (value['count'] < 20) for key, value in items.items()}\n",
    "\n",
    "print(result)"
   ]
  }
 ],
 "metadata": {
  "kernelspec": {
   "display_name": "Python 3",
   "language": "python",
   "name": "python3"
  },
  "language_info": {
   "codemirror_mode": {
    "name": "ipython",
    "version": 3
   },
   "file_extension": ".py",
   "mimetype": "text/x-python",
   "name": "python",
   "nbconvert_exporter": "python",
   "pygments_lexer": "ipython3",
   "version": "3.12.6"
  }
 },
 "nbformat": 4,
 "nbformat_minor": 2
}
